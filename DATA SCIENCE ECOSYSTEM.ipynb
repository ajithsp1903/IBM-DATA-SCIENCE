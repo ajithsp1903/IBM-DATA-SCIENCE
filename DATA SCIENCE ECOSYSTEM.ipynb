{
 "cells": [
  {
   "cell_type": "markdown",
   "id": "4cf2c1c9",
   "metadata": {},
   "source": [
    "# DATA SCIENCE TOOLS AND ECOSYSTEM"
   ]
  },
  {
   "cell_type": "markdown",
   "id": "15e0840e",
   "metadata": {},
   "source": [
    "In this notebook, data science and tools are summarized."
   ]
  },
  {
   "cell_type": "markdown",
   "id": "dada90e1",
   "metadata": {},
   "source": [
    "Some of the popular languages that Data scientists use are:\n",
    "1. Python\n",
    "2. SQL\n",
    "3. r\n",
    "4. c++\n",
    "5. JAVA"
   ]
  },
  {
   "cell_type": "markdown",
   "id": "3a045960",
   "metadata": {},
   "source": [
    "Some of the commonly used libraries by data scientists include:\n",
    "1. NumPy\n",
    "2. Pandas\n",
    "3. Matplotlib\n",
    "4. Scikit-learn\n",
    "5. TensorFlow:\n",
    "6. Keras\n",
    "7. PyTorch"
   ]
  },
  {
   "cell_type": "markdown",
   "id": "f19fb8da",
   "metadata": {},
   "source": [
    "|data science tools|\n",
    "|---|\n",
    "|SAS|\n",
    "|Apache Hadoop|\n",
    "|Tensorflow|"
   ]
  },
  {
   "cell_type": "markdown",
   "id": "082c269f",
   "metadata": {},
   "source": [
    "## below are a few examples of evaluating arithmetic expressions in python."
   ]
  },
  {
   "cell_type": "code",
   "execution_count": 3,
   "id": "8391eaf5",
   "metadata": {},
   "outputs": [
    {
     "data": {
      "text/plain": [
       "17"
      ]
     },
     "execution_count": 3,
     "metadata": {},
     "output_type": "execute_result"
    }
   ],
   "source": [
    "#common example to multiply and add the integers in the cells\n",
    "(3*4)+5"
   ]
  },
  {
   "cell_type": "code",
   "execution_count": 4,
   "id": "5f46f526",
   "metadata": {},
   "outputs": [
    {
     "data": {
      "text/plain": [
       "3.3333333333333335"
      ]
     },
     "execution_count": 4,
     "metadata": {},
     "output_type": "execute_result"
    }
   ],
   "source": [
    "#code to convert 200 minutes into hours divided by 60 \n",
    "200/60"
   ]
  },
  {
   "cell_type": "markdown",
   "id": "061d6809",
   "metadata": {},
   "source": [
    "_objectives_\n",
    "* list of popular languages of data science\n",
    "* list of popular libraries of data science\n",
    "* list of well known data science tools\n",
    "* how to provide comments in a cell"
   ]
  },
  {
   "cell_type": "markdown",
   "id": "14308994",
   "metadata": {},
   "source": [
    "### AUTHOR\n",
    "Ajith SP"
   ]
  }
 ],
 "metadata": {
  "kernelspec": {
   "display_name": "Python 3 (ipykernel)",
   "language": "python",
   "name": "python3"
  },
  "language_info": {
   "codemirror_mode": {
    "name": "ipython",
    "version": 3
   },
   "file_extension": ".py",
   "mimetype": "text/x-python",
   "name": "python",
   "nbconvert_exporter": "python",
   "pygments_lexer": "ipython3",
   "version": "3.11.4"
  }
 },
 "nbformat": 4,
 "nbformat_minor": 5
}
